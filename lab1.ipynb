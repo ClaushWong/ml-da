{
 "cells": [
  {
   "cell_type": "markdown",
   "metadata": {},
   "source": [
    "# Lab 1"
   ]
  },
  {
   "cell_type": "markdown",
   "metadata": {},
   "source": [
    "> Tuples, Lists and Dictionaries\n",
    "\n",
    "List : `x = [5,6.3]`\n",
    "\n",
    "Get `x[2]` is as simple as `print(x[2])`\n",
    "\n",
    "Add more number to the list `x` by using `x.apppend(4)`\n",
    "\n",
    "Tuple : `y = ('jan','feb','mar','apr','may','jun','jul','aug','sep','oct','nov','dec')`\n",
    "\n",
    "Dictionary : `phonebook = {'Adam':'6014-7845641','Betty':'6011-78459632'}`"
   ]
  },
  {
   "cell_type": "markdown",
   "metadata": {},
   "source": [
    "*Example with Lists:*"
   ]
  },
  {
   "cell_type": "code",
   "execution_count": null,
   "metadata": {},
   "outputs": [],
   "source": [
    "x = [5,6,3]"
   ]
  },
  {
   "cell_type": "code",
   "execution_count": null,
   "metadata": {},
   "outputs": [],
   "source": [
    "print(x[2])"
   ]
  },
  {
   "cell_type": "code",
   "execution_count": null,
   "metadata": {},
   "outputs": [],
   "source": [
    "x.append(8)"
   ]
  },
  {
   "cell_type": "code",
   "execution_count": null,
   "metadata": {},
   "outputs": [],
   "source": [
    "print(x)"
   ]
  },
  {
   "cell_type": "markdown",
   "metadata": {},
   "source": [
    "*Example with Tuples*"
   ]
  },
  {
   "cell_type": "code",
   "execution_count": null,
   "metadata": {},
   "outputs": [],
   "source": [
    "y = ('jan','feb','mar','apr','may','jun','jul','aug','sep','oct','nov','dec')"
   ]
  },
  {
   "cell_type": "code",
   "execution_count": null,
   "metadata": {},
   "outputs": [],
   "source": [
    "print(y[0])"
   ]
  },
  {
   "cell_type": "markdown",
   "metadata": {},
   "source": [
    "*Example with Dictionaries:*"
   ]
  },
  {
   "cell_type": "code",
   "execution_count": null,
   "metadata": {},
   "outputs": [],
   "source": [
    "phonebook = {'Adam':'6014-7845641','Betty':'6011-78459632'}"
   ]
  },
  {
   "cell_type": "code",
   "execution_count": null,
   "metadata": {},
   "outputs": [],
   "source": [
    "print(phonebook['Adam'])"
   ]
  },
  {
   "cell_type": "markdown",
   "metadata": {},
   "source": [
    "### Application of `*key* in *dictionary*` function"
   ]
  },
  {
   "cell_type": "code",
   "execution_count": null,
   "metadata": {},
   "outputs": [],
   "source": [
    "ages = {}\n",
    "\n",
    "ages['Adam'] = 18\n",
    "ages['Botan'] = 24\n",
    "ages['Catherine'] = 14\n",
    "ages['Dokutah'] = 99"
   ]
  },
  {
   "cell_type": "code",
   "execution_count": null,
   "metadata": {},
   "outputs": [],
   "source": [
    "if ('Adam' in ages):\n",
    "    print(\"Adam in ages\")\n",
    "else:\n",
    "    print(\"Adam not in ages\")"
   ]
  },
  {
   "cell_type": "markdown",
   "metadata": {},
   "source": [
    "> Pandas"
   ]
  },
  {
   "cell_type": "code",
   "execution_count": null,
   "metadata": {},
   "outputs": [],
   "source": [
    "import pandas as pd # import pandas and named it pd for easy access\n",
    "\n",
    "step_data = [3620, 7891, 9761, 3907, 4338, 5373] # Create a list\n",
    "\n",
    "step_counts = pd.Series(step_data,name='steps') # Convert the list into series and named it 'steps'\n",
    "\n",
    "print(step_counts) # Display the series"
   ]
  },
  {
   "cell_type": "code",
   "execution_count": null,
   "metadata": {},
   "outputs": [],
   "source": [
    "step_counts.index = pd.date_range('20150329', periods=6) # Automate assigned starting date and period of dates to all the series"
   ]
  },
  {
   "cell_type": "code",
   "execution_count": null,
   "metadata": {},
   "outputs": [],
   "source": [
    "print(step_counts)"
   ]
  },
  {
   "cell_type": "markdown",
   "metadata": {},
   "source": [
    "As can see from the result above, the date are appeared as 'key' of the series.\n",
    "\n",
    "The 'list' are kinda become a 'dictionary' in a way."
   ]
  },
  {
   "cell_type": "markdown",
   "metadata": {},
   "source": [
    "> Exercise 1 ( Grocery Store )"
   ]
  },
  {
   "cell_type": "markdown",
   "metadata": {},
   "source": [
    "*Create a dictionary of 5 item for any grocery items together with its price.*\n",
    "\n",
    "1. Find one item in your dictionary and print the price of the item\n",
    "2. Add 2 more items to the list making it 7 items"
   ]
  },
  {
   "cell_type": "code",
   "execution_count": null,
   "metadata": {},
   "outputs": [],
   "source": [
    "items = {\n",
    "    'Apple': 0.5,\n",
    "    'Banana': 0.7,\n",
    "    'Citrus': 0.4,\n",
    "    'Dr. Pepper': 1.2,\n",
    "    'Eggs': 2.5\n",
    "}"
   ]
  },
  {
   "cell_type": "code",
   "execution_count": null,
   "metadata": {},
   "outputs": [],
   "source": [
    "selected_item = input('Please enter an item: ')"
   ]
  },
  {
   "cell_type": "code",
   "execution_count": null,
   "metadata": {},
   "outputs": [],
   "source": [
    "if (selected_item in items):\n",
    "    print('The price of ' + selected_item + ' is $' + str(items[selected_item]))\n",
    "else:\n",
    "    print('The item you entered is not in the dictionary')"
   ]
  },
  {
   "cell_type": "code",
   "execution_count": null,
   "metadata": {},
   "outputs": [],
   "source": [
    "items['Fish'] = 5.99\n",
    "items['Grapes'] = 1.5"
   ]
  },
  {
   "cell_type": "code",
   "execution_count": null,
   "metadata": {},
   "outputs": [],
   "source": [
    "print(items)"
   ]
  }
 ],
 "metadata": {
  "kernelspec": {
   "display_name": "Python 3",
   "language": "python",
   "name": "python3"
  },
  "language_info": {
   "codemirror_mode": {
    "name": "ipython",
    "version": 3
   },
   "file_extension": ".py",
   "mimetype": "text/x-python",
   "name": "python",
   "nbconvert_exporter": "python",
   "pygments_lexer": "ipython3",
   "version": "3.6.5"
  }
 },
 "nbformat": 4,
 "nbformat_minor": 2
}
